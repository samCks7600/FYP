{
 "cells": [
  {
   "cell_type": "code",
   "execution_count": 25,
   "id": "06722c93",
   "metadata": {
    "id": "06722c93"
   },
   "outputs": [],
   "source": [
    "# ! pip install mysql-connector-python\n",
    "# conda install -c anaconda sqlalchemy\n",
    "# !pip install recommenders\n",
    "# conda install -c anaconda pymysql\n",
    "\n",
    "\n",
    "import numpy as np\n",
    "import pandas as pd\n",
    "import mysql.connector\n",
    "import sqlalchemy\n",
    "\n",
    "from sklearn.metrics.pairwise import cosine_similarity\n",
    "from sqlalchemy import types\n",
    "from sqlalchemy import create_engine\n",
    "from pathlib import Path"
   ]
  },
  {
   "cell_type": "code",
   "execution_count": 26,
   "id": "jopbcvN-wX-r",
   "metadata": {
    "id": "jopbcvN-wX-r"
   },
   "outputs": [
    {
     "name": "stdout",
     "output_type": "stream",
     "text": [
      "('epl_db',)\n",
      "('information_schema',)\n",
      "('mysql',)\n",
      "('performance_schema',)\n",
      "('phpmyadmin',)\n",
      "('projectdb',)\n",
      "('spl_db2',)\n",
      "('testdb',)\n",
      "('tutorcatdb',)\n"
     ]
    }
   ],
   "source": [
    "mydb = mysql.connector.connect(\n",
    "  host=\"localhost\",\n",
    "  user=\"root\",\n",
    "  passwd=\"\"\n",
    ")\n",
    "\n",
    "sqlEngine= create_engine('mysql+pymysql://root:@localhost:3306/tutorcatdb')\n",
    "\n",
    "mycursor = mydb.cursor()\n",
    "mycursor.execute(\"SHOW DATABASES\")\n",
    "for x in mycursor:\n",
    "  print(x)"
   ]
  },
  {
   "cell_type": "code",
   "execution_count": 27,
   "outputs": [
    {
     "data": {
      "text/plain": "    NotesID  StudentID  Rating\n0        25      10001       5\n1        25      10002       4\n2        25      10003       4\n3        26      10001       4\n4        26      10003       4\n5        27      10002       3\n6        27      10003       4\n7        27      10004       4\n8        28      10004       4\n9        29      10003       4\n10       30      10003       4\n11       31      10002       3",
      "text/html": "<div>\n<style scoped>\n    .dataframe tbody tr th:only-of-type {\n        vertical-align: middle;\n    }\n\n    .dataframe tbody tr th {\n        vertical-align: top;\n    }\n\n    .dataframe thead th {\n        text-align: right;\n    }\n</style>\n<table border=\"1\" class=\"dataframe\">\n  <thead>\n    <tr style=\"text-align: right;\">\n      <th></th>\n      <th>NotesID</th>\n      <th>StudentID</th>\n      <th>Rating</th>\n    </tr>\n  </thead>\n  <tbody>\n    <tr>\n      <th>0</th>\n      <td>25</td>\n      <td>10001</td>\n      <td>5</td>\n    </tr>\n    <tr>\n      <th>1</th>\n      <td>25</td>\n      <td>10002</td>\n      <td>4</td>\n    </tr>\n    <tr>\n      <th>2</th>\n      <td>25</td>\n      <td>10003</td>\n      <td>4</td>\n    </tr>\n    <tr>\n      <th>3</th>\n      <td>26</td>\n      <td>10001</td>\n      <td>4</td>\n    </tr>\n    <tr>\n      <th>4</th>\n      <td>26</td>\n      <td>10003</td>\n      <td>4</td>\n    </tr>\n    <tr>\n      <th>5</th>\n      <td>27</td>\n      <td>10002</td>\n      <td>3</td>\n    </tr>\n    <tr>\n      <th>6</th>\n      <td>27</td>\n      <td>10003</td>\n      <td>4</td>\n    </tr>\n    <tr>\n      <th>7</th>\n      <td>27</td>\n      <td>10004</td>\n      <td>4</td>\n    </tr>\n    <tr>\n      <th>8</th>\n      <td>28</td>\n      <td>10004</td>\n      <td>4</td>\n    </tr>\n    <tr>\n      <th>9</th>\n      <td>29</td>\n      <td>10003</td>\n      <td>4</td>\n    </tr>\n    <tr>\n      <th>10</th>\n      <td>30</td>\n      <td>10003</td>\n      <td>4</td>\n    </tr>\n    <tr>\n      <th>11</th>\n      <td>31</td>\n      <td>10002</td>\n      <td>3</td>\n    </tr>\n  </tbody>\n</table>\n</div>"
     },
     "execution_count": 27,
     "metadata": {},
     "output_type": "execute_result"
    }
   ],
   "source": [
    "notes_Rating_DataFrame = pd.read_sql('SELECT NotesID,StudentID,Rating FROM notes_rating',con=sqlEngine)\n",
    "\n",
    "notes_Rating_DataFrame"
   ],
   "metadata": {
    "collapsed": false
   }
  },
  {
   "cell_type": "markdown",
   "source": [],
   "metadata": {
    "collapsed": false
   }
  },
  {
   "cell_type": "code",
   "execution_count": 28,
   "id": "5614b84e",
   "metadata": {
    "id": "5614b84e"
   },
   "outputs": [
    {
     "name": "stdout",
     "output_type": "stream",
     "text": [
      "Notes Number : 7\n"
     ]
    }
   ],
   "source": [
    "print(\"Notes Number : \" + str(notes_Rating_DataFrame['NotesID'].nunique()) )"
   ]
  },
  {
   "cell_type": "markdown",
   "id": "3JKSyg5eHD-D",
   "metadata": {
    "id": "3JKSyg5eHD-D"
   },
   "source": [
    "playHoursAvgDf : col( gameName\tplayHours)"
   ]
  },
  {
   "cell_type": "code",
   "execution_count": 29,
   "id": "eFFHYQPldCHE",
   "metadata": {
    "id": "eFFHYQPldCHE"
   },
   "outputs": [],
   "source": [
    "piv_dataFrame=notes_Rating_DataFrame.pivot_table(index='StudentID', columns='NotesID',values=\"Rating\").fillna(0)"
   ]
  },
  {
   "cell_type": "code",
   "execution_count": 30,
   "id": "UPiCOvQ8dCFA",
   "metadata": {
    "id": "UPiCOvQ8dCFA"
   },
   "outputs": [
    {
     "data": {
      "text/plain": "NotesID     25   26   27   28   29   30   31\nStudentID                                   \n10001      5.0  4.0  0.0  0.0  0.0  0.0  0.0\n10002      4.0  0.0  3.0  0.0  0.0  0.0  3.0\n10003      4.0  4.0  4.0  0.0  4.0  4.0  0.0\n10004      0.0  0.0  4.0  4.0  0.0  0.0  0.0",
      "text/html": "<div>\n<style scoped>\n    .dataframe tbody tr th:only-of-type {\n        vertical-align: middle;\n    }\n\n    .dataframe tbody tr th {\n        vertical-align: top;\n    }\n\n    .dataframe thead th {\n        text-align: right;\n    }\n</style>\n<table border=\"1\" class=\"dataframe\">\n  <thead>\n    <tr style=\"text-align: right;\">\n      <th>NotesID</th>\n      <th>25</th>\n      <th>26</th>\n      <th>27</th>\n      <th>28</th>\n      <th>29</th>\n      <th>30</th>\n      <th>31</th>\n    </tr>\n    <tr>\n      <th>StudentID</th>\n      <th></th>\n      <th></th>\n      <th></th>\n      <th></th>\n      <th></th>\n      <th></th>\n      <th></th>\n    </tr>\n  </thead>\n  <tbody>\n    <tr>\n      <th>10001</th>\n      <td>5.0</td>\n      <td>4.0</td>\n      <td>0.0</td>\n      <td>0.0</td>\n      <td>0.0</td>\n      <td>0.0</td>\n      <td>0.0</td>\n    </tr>\n    <tr>\n      <th>10002</th>\n      <td>4.0</td>\n      <td>0.0</td>\n      <td>3.0</td>\n      <td>0.0</td>\n      <td>0.0</td>\n      <td>0.0</td>\n      <td>3.0</td>\n    </tr>\n    <tr>\n      <th>10003</th>\n      <td>4.0</td>\n      <td>4.0</td>\n      <td>4.0</td>\n      <td>0.0</td>\n      <td>4.0</td>\n      <td>4.0</td>\n      <td>0.0</td>\n    </tr>\n    <tr>\n      <th>10004</th>\n      <td>0.0</td>\n      <td>0.0</td>\n      <td>4.0</td>\n      <td>4.0</td>\n      <td>0.0</td>\n      <td>0.0</td>\n      <td>0.0</td>\n    </tr>\n  </tbody>\n</table>\n</div>"
     },
     "execution_count": 30,
     "metadata": {},
     "output_type": "execute_result"
    }
   ],
   "source": [
    "piv_dataFrame"
   ]
  },
  {
   "cell_type": "code",
   "execution_count": 31,
   "id": "zvtNCc_pdCC9",
   "metadata": {
    "id": "zvtNCc_pdCC9"
   },
   "outputs": [],
   "source": [
    "def standardize(row):\n",
    "    new_row = (row - row.mean()) / (row.max() - row.min())\n",
    "    return new_row\n",
    "\n",
    "piv_dataFrame = piv_dataFrame.apply(standardize)"
   ]
  },
  {
   "cell_type": "code",
   "execution_count": 32,
   "id": "0mUVeAvxdCA3",
   "metadata": {
    "id": "0mUVeAvxdCA3"
   },
   "outputs": [
    {
     "data": {
      "text/plain": "NotesID      25   26      27    28    29    30    31\nStudentID                                           \n10001      0.35  0.5 -0.6875 -0.25 -0.25 -0.25 -0.25\n10002      0.15 -0.5  0.0625 -0.25 -0.25 -0.25  0.75\n10003      0.15  0.5  0.3125 -0.25  0.75  0.75 -0.25\n10004     -0.65 -0.5  0.3125  0.75 -0.25 -0.25 -0.25",
      "text/html": "<div>\n<style scoped>\n    .dataframe tbody tr th:only-of-type {\n        vertical-align: middle;\n    }\n\n    .dataframe tbody tr th {\n        vertical-align: top;\n    }\n\n    .dataframe thead th {\n        text-align: right;\n    }\n</style>\n<table border=\"1\" class=\"dataframe\">\n  <thead>\n    <tr style=\"text-align: right;\">\n      <th>NotesID</th>\n      <th>25</th>\n      <th>26</th>\n      <th>27</th>\n      <th>28</th>\n      <th>29</th>\n      <th>30</th>\n      <th>31</th>\n    </tr>\n    <tr>\n      <th>StudentID</th>\n      <th></th>\n      <th></th>\n      <th></th>\n      <th></th>\n      <th></th>\n      <th></th>\n      <th></th>\n    </tr>\n  </thead>\n  <tbody>\n    <tr>\n      <th>10001</th>\n      <td>0.35</td>\n      <td>0.5</td>\n      <td>-0.6875</td>\n      <td>-0.25</td>\n      <td>-0.25</td>\n      <td>-0.25</td>\n      <td>-0.25</td>\n    </tr>\n    <tr>\n      <th>10002</th>\n      <td>0.15</td>\n      <td>-0.5</td>\n      <td>0.0625</td>\n      <td>-0.25</td>\n      <td>-0.25</td>\n      <td>-0.25</td>\n      <td>0.75</td>\n    </tr>\n    <tr>\n      <th>10003</th>\n      <td>0.15</td>\n      <td>0.5</td>\n      <td>0.3125</td>\n      <td>-0.25</td>\n      <td>0.75</td>\n      <td>0.75</td>\n      <td>-0.25</td>\n    </tr>\n    <tr>\n      <th>10004</th>\n      <td>-0.65</td>\n      <td>-0.5</td>\n      <td>0.3125</td>\n      <td>0.75</td>\n      <td>-0.25</td>\n      <td>-0.25</td>\n      <td>-0.25</td>\n    </tr>\n  </tbody>\n</table>\n</div>"
     },
     "execution_count": 32,
     "metadata": {},
     "output_type": "execute_result"
    }
   ],
   "source": [
    "piv_dataFrame"
   ]
  },
  {
   "cell_type": "code",
   "execution_count": 33,
   "id": "w2FnOMvCdB46",
   "metadata": {
    "id": "w2FnOMvCdB46"
   },
   "outputs": [
    {
     "name": "stdout",
     "output_type": "stream",
     "text": [
      "7\n"
     ]
    }
   ],
   "source": [
    "notes_similarity = cosine_similarity(piv_dataFrame.T)\n",
    "print(len(notes_similarity))"
   ]
  },
  {
   "cell_type": "code",
   "execution_count": 34,
   "id": "IXRcZy1zdBdp",
   "metadata": {
    "id": "IXRcZy1zdBdp"
   },
   "outputs": [
    {
     "data": {
      "text/plain": "NotesID        25        26        27        28        29        30        31\nNotesID                                                                      \n25       1.000000  0.650945 -0.615462 -0.977140  0.225494  0.225494  0.225494\n26       0.650945  1.000000 -0.457496 -0.577350  0.577350  0.577350 -0.577350\n27      -0.615462 -0.457496  1.000000  0.440225  0.440225  0.440225  0.088045\n28      -0.977140 -0.577350  0.440225  1.000000 -0.333333 -0.333333 -0.333333\n29       0.225494  0.577350  0.440225 -0.333333  1.000000  1.000000 -0.333333\n30       0.225494  0.577350  0.440225 -0.333333  1.000000  1.000000 -0.333333\n31       0.225494 -0.577350  0.088045 -0.333333 -0.333333 -0.333333  1.000000",
      "text/html": "<div>\n<style scoped>\n    .dataframe tbody tr th:only-of-type {\n        vertical-align: middle;\n    }\n\n    .dataframe tbody tr th {\n        vertical-align: top;\n    }\n\n    .dataframe thead th {\n        text-align: right;\n    }\n</style>\n<table border=\"1\" class=\"dataframe\">\n  <thead>\n    <tr style=\"text-align: right;\">\n      <th>NotesID</th>\n      <th>25</th>\n      <th>26</th>\n      <th>27</th>\n      <th>28</th>\n      <th>29</th>\n      <th>30</th>\n      <th>31</th>\n    </tr>\n    <tr>\n      <th>NotesID</th>\n      <th></th>\n      <th></th>\n      <th></th>\n      <th></th>\n      <th></th>\n      <th></th>\n      <th></th>\n    </tr>\n  </thead>\n  <tbody>\n    <tr>\n      <th>25</th>\n      <td>1.000000</td>\n      <td>0.650945</td>\n      <td>-0.615462</td>\n      <td>-0.977140</td>\n      <td>0.225494</td>\n      <td>0.225494</td>\n      <td>0.225494</td>\n    </tr>\n    <tr>\n      <th>26</th>\n      <td>0.650945</td>\n      <td>1.000000</td>\n      <td>-0.457496</td>\n      <td>-0.577350</td>\n      <td>0.577350</td>\n      <td>0.577350</td>\n      <td>-0.577350</td>\n    </tr>\n    <tr>\n      <th>27</th>\n      <td>-0.615462</td>\n      <td>-0.457496</td>\n      <td>1.000000</td>\n      <td>0.440225</td>\n      <td>0.440225</td>\n      <td>0.440225</td>\n      <td>0.088045</td>\n    </tr>\n    <tr>\n      <th>28</th>\n      <td>-0.977140</td>\n      <td>-0.577350</td>\n      <td>0.440225</td>\n      <td>1.000000</td>\n      <td>-0.333333</td>\n      <td>-0.333333</td>\n      <td>-0.333333</td>\n    </tr>\n    <tr>\n      <th>29</th>\n      <td>0.225494</td>\n      <td>0.577350</td>\n      <td>0.440225</td>\n      <td>-0.333333</td>\n      <td>1.000000</td>\n      <td>1.000000</td>\n      <td>-0.333333</td>\n    </tr>\n    <tr>\n      <th>30</th>\n      <td>0.225494</td>\n      <td>0.577350</td>\n      <td>0.440225</td>\n      <td>-0.333333</td>\n      <td>1.000000</td>\n      <td>1.000000</td>\n      <td>-0.333333</td>\n    </tr>\n    <tr>\n      <th>31</th>\n      <td>0.225494</td>\n      <td>-0.577350</td>\n      <td>0.088045</td>\n      <td>-0.333333</td>\n      <td>-0.333333</td>\n      <td>-0.333333</td>\n      <td>1.000000</td>\n    </tr>\n  </tbody>\n</table>\n</div>"
     },
     "execution_count": 34,
     "metadata": {},
     "output_type": "execute_result"
    }
   ],
   "source": [
    "notes_similarity_df = pd.DataFrame(notes_similarity,index=piv_dataFrame.columns,columns=piv_dataFrame.columns)\n",
    "\n",
    "notes_similarity_df"
   ]
  },
  {
   "cell_type": "code",
   "execution_count": 35,
   "outputs": [
    {
     "data": {
      "text/plain": "    NotesID NotesID2       Val\n0        25       25  1.000000\n1        26       25  0.650945\n2        27       25 -0.615462\n3        28       25 -0.977140\n4        29       25  0.225494\n5        30       25  0.225494\n6        31       25  0.225494\n7        25       26  0.650945\n8        26       26  1.000000\n9        27       26 -0.457496\n10       28       26 -0.577350\n11       29       26  0.577350\n12       30       26  0.577350\n13       31       26 -0.577350\n14       25       27 -0.615462\n15       26       27 -0.457496\n16       27       27  1.000000\n17       28       27  0.440225\n18       29       27  0.440225\n19       30       27  0.440225\n20       31       27  0.088045\n21       25       28 -0.977140\n22       26       28 -0.577350\n23       27       28  0.440225\n24       28       28  1.000000\n25       29       28 -0.333333\n26       30       28 -0.333333\n27       31       28 -0.333333\n28       25       29  0.225494\n29       26       29  0.577350\n30       27       29  0.440225\n31       28       29 -0.333333\n32       29       29  1.000000\n33       30       29  1.000000\n34       31       29 -0.333333\n35       25       30  0.225494\n36       26       30  0.577350\n37       27       30  0.440225\n38       28       30 -0.333333\n39       29       30  1.000000\n40       30       30  1.000000\n41       31       30 -0.333333\n42       25       31  0.225494\n43       26       31 -0.577350\n44       27       31  0.088045\n45       28       31 -0.333333\n46       29       31 -0.333333\n47       30       31 -0.333333\n48       31       31  1.000000",
      "text/html": "<div>\n<style scoped>\n    .dataframe tbody tr th:only-of-type {\n        vertical-align: middle;\n    }\n\n    .dataframe tbody tr th {\n        vertical-align: top;\n    }\n\n    .dataframe thead th {\n        text-align: right;\n    }\n</style>\n<table border=\"1\" class=\"dataframe\">\n  <thead>\n    <tr style=\"text-align: right;\">\n      <th></th>\n      <th>NotesID</th>\n      <th>NotesID2</th>\n      <th>Val</th>\n    </tr>\n  </thead>\n  <tbody>\n    <tr>\n      <th>0</th>\n      <td>25</td>\n      <td>25</td>\n      <td>1.000000</td>\n    </tr>\n    <tr>\n      <th>1</th>\n      <td>26</td>\n      <td>25</td>\n      <td>0.650945</td>\n    </tr>\n    <tr>\n      <th>2</th>\n      <td>27</td>\n      <td>25</td>\n      <td>-0.615462</td>\n    </tr>\n    <tr>\n      <th>3</th>\n      <td>28</td>\n      <td>25</td>\n      <td>-0.977140</td>\n    </tr>\n    <tr>\n      <th>4</th>\n      <td>29</td>\n      <td>25</td>\n      <td>0.225494</td>\n    </tr>\n    <tr>\n      <th>5</th>\n      <td>30</td>\n      <td>25</td>\n      <td>0.225494</td>\n    </tr>\n    <tr>\n      <th>6</th>\n      <td>31</td>\n      <td>25</td>\n      <td>0.225494</td>\n    </tr>\n    <tr>\n      <th>7</th>\n      <td>25</td>\n      <td>26</td>\n      <td>0.650945</td>\n    </tr>\n    <tr>\n      <th>8</th>\n      <td>26</td>\n      <td>26</td>\n      <td>1.000000</td>\n    </tr>\n    <tr>\n      <th>9</th>\n      <td>27</td>\n      <td>26</td>\n      <td>-0.457496</td>\n    </tr>\n    <tr>\n      <th>10</th>\n      <td>28</td>\n      <td>26</td>\n      <td>-0.577350</td>\n    </tr>\n    <tr>\n      <th>11</th>\n      <td>29</td>\n      <td>26</td>\n      <td>0.577350</td>\n    </tr>\n    <tr>\n      <th>12</th>\n      <td>30</td>\n      <td>26</td>\n      <td>0.577350</td>\n    </tr>\n    <tr>\n      <th>13</th>\n      <td>31</td>\n      <td>26</td>\n      <td>-0.577350</td>\n    </tr>\n    <tr>\n      <th>14</th>\n      <td>25</td>\n      <td>27</td>\n      <td>-0.615462</td>\n    </tr>\n    <tr>\n      <th>15</th>\n      <td>26</td>\n      <td>27</td>\n      <td>-0.457496</td>\n    </tr>\n    <tr>\n      <th>16</th>\n      <td>27</td>\n      <td>27</td>\n      <td>1.000000</td>\n    </tr>\n    <tr>\n      <th>17</th>\n      <td>28</td>\n      <td>27</td>\n      <td>0.440225</td>\n    </tr>\n    <tr>\n      <th>18</th>\n      <td>29</td>\n      <td>27</td>\n      <td>0.440225</td>\n    </tr>\n    <tr>\n      <th>19</th>\n      <td>30</td>\n      <td>27</td>\n      <td>0.440225</td>\n    </tr>\n    <tr>\n      <th>20</th>\n      <td>31</td>\n      <td>27</td>\n      <td>0.088045</td>\n    </tr>\n    <tr>\n      <th>21</th>\n      <td>25</td>\n      <td>28</td>\n      <td>-0.977140</td>\n    </tr>\n    <tr>\n      <th>22</th>\n      <td>26</td>\n      <td>28</td>\n      <td>-0.577350</td>\n    </tr>\n    <tr>\n      <th>23</th>\n      <td>27</td>\n      <td>28</td>\n      <td>0.440225</td>\n    </tr>\n    <tr>\n      <th>24</th>\n      <td>28</td>\n      <td>28</td>\n      <td>1.000000</td>\n    </tr>\n    <tr>\n      <th>25</th>\n      <td>29</td>\n      <td>28</td>\n      <td>-0.333333</td>\n    </tr>\n    <tr>\n      <th>26</th>\n      <td>30</td>\n      <td>28</td>\n      <td>-0.333333</td>\n    </tr>\n    <tr>\n      <th>27</th>\n      <td>31</td>\n      <td>28</td>\n      <td>-0.333333</td>\n    </tr>\n    <tr>\n      <th>28</th>\n      <td>25</td>\n      <td>29</td>\n      <td>0.225494</td>\n    </tr>\n    <tr>\n      <th>29</th>\n      <td>26</td>\n      <td>29</td>\n      <td>0.577350</td>\n    </tr>\n    <tr>\n      <th>30</th>\n      <td>27</td>\n      <td>29</td>\n      <td>0.440225</td>\n    </tr>\n    <tr>\n      <th>31</th>\n      <td>28</td>\n      <td>29</td>\n      <td>-0.333333</td>\n    </tr>\n    <tr>\n      <th>32</th>\n      <td>29</td>\n      <td>29</td>\n      <td>1.000000</td>\n    </tr>\n    <tr>\n      <th>33</th>\n      <td>30</td>\n      <td>29</td>\n      <td>1.000000</td>\n    </tr>\n    <tr>\n      <th>34</th>\n      <td>31</td>\n      <td>29</td>\n      <td>-0.333333</td>\n    </tr>\n    <tr>\n      <th>35</th>\n      <td>25</td>\n      <td>30</td>\n      <td>0.225494</td>\n    </tr>\n    <tr>\n      <th>36</th>\n      <td>26</td>\n      <td>30</td>\n      <td>0.577350</td>\n    </tr>\n    <tr>\n      <th>37</th>\n      <td>27</td>\n      <td>30</td>\n      <td>0.440225</td>\n    </tr>\n    <tr>\n      <th>38</th>\n      <td>28</td>\n      <td>30</td>\n      <td>-0.333333</td>\n    </tr>\n    <tr>\n      <th>39</th>\n      <td>29</td>\n      <td>30</td>\n      <td>1.000000</td>\n    </tr>\n    <tr>\n      <th>40</th>\n      <td>30</td>\n      <td>30</td>\n      <td>1.000000</td>\n    </tr>\n    <tr>\n      <th>41</th>\n      <td>31</td>\n      <td>30</td>\n      <td>-0.333333</td>\n    </tr>\n    <tr>\n      <th>42</th>\n      <td>25</td>\n      <td>31</td>\n      <td>0.225494</td>\n    </tr>\n    <tr>\n      <th>43</th>\n      <td>26</td>\n      <td>31</td>\n      <td>-0.577350</td>\n    </tr>\n    <tr>\n      <th>44</th>\n      <td>27</td>\n      <td>31</td>\n      <td>0.088045</td>\n    </tr>\n    <tr>\n      <th>45</th>\n      <td>28</td>\n      <td>31</td>\n      <td>-0.333333</td>\n    </tr>\n    <tr>\n      <th>46</th>\n      <td>29</td>\n      <td>31</td>\n      <td>-0.333333</td>\n    </tr>\n    <tr>\n      <th>47</th>\n      <td>30</td>\n      <td>31</td>\n      <td>-0.333333</td>\n    </tr>\n    <tr>\n      <th>48</th>\n      <td>31</td>\n      <td>31</td>\n      <td>1.000000</td>\n    </tr>\n  </tbody>\n</table>\n</div>"
     },
     "execution_count": 35,
     "metadata": {},
     "output_type": "execute_result"
    }
   ],
   "source": [
    "# df = game_similarity_df.reset_index(index=game_similarity_df.loc[:,0])\n",
    "df = notes_similarity_df.reset_index()\n",
    "df = df.set_index('NotesID')\n",
    "df = df.reset_index()\n",
    "\n",
    "testFram = pd.melt(df,id_vars=[\"NotesID\"],var_name=\"NotesID2\",value_name='Val')\n",
    "testFram\n",
    "\n",
    "testFram.to_sql('ai_table', con=sqlEngine, if_exists='replace',index=False, dtype={\"Val\": types.Float()})\n",
    "testFram"
   ],
   "metadata": {
    "collapsed": false
   }
  },
  {
   "cell_type": "code",
   "execution_count": 35,
   "outputs": [],
   "source": [],
   "metadata": {
    "collapsed": false
   }
  },
  {
   "cell_type": "code",
   "execution_count": 36,
   "outputs": [],
   "source": [
    "# def get_similarity_game(notesID,rating):\n",
    "#\n",
    "#     similarity_mark = game_similarity_df[game_name]*user_rating\n",
    "#     similarity_mark = similarity_mark.sort_values(ascending=False)\n",
    "#\n",
    "#     return similarity_mark\n",
    "#\n",
    "# print(get_similarity_game(\"Warframe\",5))\n",
    "\n"
   ],
   "metadata": {
    "collapsed": false
   }
  }
 ],
 "metadata": {
  "accelerator": "GPU",
  "colab": {
   "private_outputs": true,
   "provenance": []
  },
  "gpuClass": "standard",
  "kernelspec": {
   "display_name": "Python 3 (ipykernel)",
   "language": "python",
   "name": "python3"
  },
  "language_info": {
   "codemirror_mode": {
    "name": "ipython",
    "version": 3
   },
   "file_extension": ".py",
   "mimetype": "text/x-python",
   "name": "python",
   "nbconvert_exporter": "python",
   "pygments_lexer": "ipython3",
   "version": "3.7.16"
  }
 },
 "nbformat": 4,
 "nbformat_minor": 5
}
