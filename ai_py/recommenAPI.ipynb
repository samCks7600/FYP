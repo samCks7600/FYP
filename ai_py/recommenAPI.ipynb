{
 "cells": [
  {
   "cell_type": "code",
   "execution_count": 1,
   "metadata": {
    "collapsed": true
   },
   "outputs": [],
   "source": [
    "from flask import Flask, request\n",
    "from flask_restful import Resource, Api\n",
    "import pymysql\n",
    "import pandas as pd"
   ]
  },
  {
   "cell_type": "code",
   "execution_count": 2,
   "outputs": [
    {
     "name": "stdout",
     "output_type": "stream",
     "text": [
      "   NotesID  NotesID2       Val\n",
      "0       25        25  1.000000\n",
      "1       26        25  0.650945\n",
      "2       27        25 -0.615462\n",
      "3       28        25 -0.977140\n",
      "4       29        25  0.225494\n"
     ]
    }
   ],
   "source": [
    "connection = pymysql.connect(\n",
    "    host='localhost',\n",
    "    user='root',\n",
    "    password='',\n",
    "    db='tutorcatdb'\n",
    ")\n",
    "\n",
    "# Define the SQL query to retrieve data from a table\n",
    "query = 'SELECT * FROM ai_table;'\n",
    "\n",
    "# Use pandas to load the query results into a DataFrame\n",
    "ai_df = pd.read_sql(query, connection)\n",
    "\n",
    "connection.close()\n",
    "\n",
    "# Print the DataFrame\n",
    "print(ai_df.head())"
   ],
   "metadata": {
    "collapsed": false
   }
  },
  {
   "cell_type": "code",
   "execution_count": 3,
   "outputs": [
    {
     "data": {
      "text/plain": "NotesID2        25        26        27        28        29        30        31\nNotesID                                                                       \n25        1.000000  0.650945 -0.615462 -0.977140  0.225494  0.225494  0.225494\n26        0.650945  1.000000 -0.457496 -0.577350  0.577350  0.577350 -0.577350\n27       -0.615462 -0.457496  1.000000  0.440225  0.440225  0.440225  0.088045\n28       -0.977140 -0.577350  0.440225  1.000000 -0.333333 -0.333333 -0.333333\n29        0.225494  0.577350  0.440225 -0.333333  1.000000  1.000000 -0.333333\n30        0.225494  0.577350  0.440225 -0.333333  1.000000  1.000000 -0.333333\n31        0.225494 -0.577350  0.088045 -0.333333 -0.333333 -0.333333  1.000000",
      "text/html": "<div>\n<style scoped>\n    .dataframe tbody tr th:only-of-type {\n        vertical-align: middle;\n    }\n\n    .dataframe tbody tr th {\n        vertical-align: top;\n    }\n\n    .dataframe thead th {\n        text-align: right;\n    }\n</style>\n<table border=\"1\" class=\"dataframe\">\n  <thead>\n    <tr style=\"text-align: right;\">\n      <th>NotesID2</th>\n      <th>25</th>\n      <th>26</th>\n      <th>27</th>\n      <th>28</th>\n      <th>29</th>\n      <th>30</th>\n      <th>31</th>\n    </tr>\n    <tr>\n      <th>NotesID</th>\n      <th></th>\n      <th></th>\n      <th></th>\n      <th></th>\n      <th></th>\n      <th></th>\n      <th></th>\n    </tr>\n  </thead>\n  <tbody>\n    <tr>\n      <th>25</th>\n      <td>1.000000</td>\n      <td>0.650945</td>\n      <td>-0.615462</td>\n      <td>-0.977140</td>\n      <td>0.225494</td>\n      <td>0.225494</td>\n      <td>0.225494</td>\n    </tr>\n    <tr>\n      <th>26</th>\n      <td>0.650945</td>\n      <td>1.000000</td>\n      <td>-0.457496</td>\n      <td>-0.577350</td>\n      <td>0.577350</td>\n      <td>0.577350</td>\n      <td>-0.577350</td>\n    </tr>\n    <tr>\n      <th>27</th>\n      <td>-0.615462</td>\n      <td>-0.457496</td>\n      <td>1.000000</td>\n      <td>0.440225</td>\n      <td>0.440225</td>\n      <td>0.440225</td>\n      <td>0.088045</td>\n    </tr>\n    <tr>\n      <th>28</th>\n      <td>-0.977140</td>\n      <td>-0.577350</td>\n      <td>0.440225</td>\n      <td>1.000000</td>\n      <td>-0.333333</td>\n      <td>-0.333333</td>\n      <td>-0.333333</td>\n    </tr>\n    <tr>\n      <th>29</th>\n      <td>0.225494</td>\n      <td>0.577350</td>\n      <td>0.440225</td>\n      <td>-0.333333</td>\n      <td>1.000000</td>\n      <td>1.000000</td>\n      <td>-0.333333</td>\n    </tr>\n    <tr>\n      <th>30</th>\n      <td>0.225494</td>\n      <td>0.577350</td>\n      <td>0.440225</td>\n      <td>-0.333333</td>\n      <td>1.000000</td>\n      <td>1.000000</td>\n      <td>-0.333333</td>\n    </tr>\n    <tr>\n      <th>31</th>\n      <td>0.225494</td>\n      <td>-0.577350</td>\n      <td>0.088045</td>\n      <td>-0.333333</td>\n      <td>-0.333333</td>\n      <td>-0.333333</td>\n      <td>1.000000</td>\n    </tr>\n  </tbody>\n</table>\n</div>"
     },
     "execution_count": 3,
     "metadata": {},
     "output_type": "execute_result"
    }
   ],
   "source": [
    "piv_dataFrame = ai_df.pivot_table(index='NotesID', columns='NotesID2', values=\"Val\").fillna(0)\n",
    "\n",
    "piv_dataFrame"
   ],
   "metadata": {
    "collapsed": false
   }
  },
  {
   "cell_type": "code",
   "execution_count": 4,
   "outputs": [
    {
     "name": "stdout",
     "output_type": "stream",
     "text": [
      "NotesID\n",
      "25    5.000000\n",
      "26    3.254725\n",
      "29    1.127470\n",
      "30    1.127470\n",
      "31    1.127470\n",
      "27   -3.077310\n",
      "28   -4.885700\n",
      "Name: 25, dtype: float64\n"
     ]
    }
   ],
   "source": [
    "def get_similarity_notes(notesID, user_rating):\n",
    "    similarity_mark = piv_dataFrame[notesID] * user_rating\n",
    "    similarity_mark = similarity_mark.sort_values(ascending=False)\n",
    "\n",
    "    return similarity_mark\n",
    "\n",
    "print(get_similarity_notes(25, 5))"
   ],
   "metadata": {
    "collapsed": false
   }
  },
  {
   "cell_type": "code",
   "execution_count": 5,
   "outputs": [],
   "source": [
    "notes_lover = [(25, 1), (26, 1), (27, 1)]\n",
    "\n",
    "# piv_dataFrame_null = pd.DataFrame()\n",
    "#\n",
    "# for notesID,rating in notes_lover:\n",
    "#     piv_dataFrame_null = piv_dataFrame.append(get_similarity_notes(notesID,rating),ignore_index=True)\n",
    "#\n",
    "# piv_dataFrame_null.head()\n",
    "#\n",
    "# piv_dataFrame_null.sum().sort_values(ascending = False)"
   ],
   "metadata": {
    "collapsed": false
   }
  },
  {
   "cell_type": "code",
   "execution_count": null,
   "outputs": [
    {
     "name": "stdout",
     "output_type": "stream",
     "text": [
      " * Serving Flask app '__main__'\n",
      " * Debug mode: off\n"
     ]
    },
    {
     "name": "stderr",
     "output_type": "stream",
     "text": [
      "WARNING: This is a development server. Do not use it in a production deployment. Use a production WSGI server instead.\n",
      " * Running on http://127.0.0.1:5000\n",
      "Press CTRL+C to quit\n",
      "127.0.0.1 - - [16/Apr/2023 05:37:49] \"GET /recommend/10003 HTTP/1.1\" 200 -\n"
     ]
    },
    {
     "name": "stdout",
     "output_type": "stream",
     "text": [
      "[(25, 1), (26, 1), (27, 1), (29, 1), (30, 1)]\n",
      "<class 'list'>\n",
      "<class 'pandas.core.series.Series'>\n",
      "29    3.016628\n",
      "30    3.016628\n",
      "27    2.335762\n",
      "26    0.735953\n",
      "25    0.119363\n",
      "31   -0.175765\n",
      "28   -0.674039\n",
      "dtype: float64\n",
      "<class 'pandas.core.frame.DataFrame'>\n",
      "              Val\n",
      "NotesID          \n",
      "29       3.016628\n",
      "30       3.016628\n",
      "27       2.335762\n",
      "26       0.735953\n",
      "25       0.119363\n",
      "31      -0.175765\n",
      "28      -0.674039\n",
      "{25, 26, 27, 29, 30}\n",
      "              Val\n",
      "NotesID          \n",
      "31      -0.175765\n",
      "28      -0.674039\n"
     ]
    },
    {
     "name": "stderr",
     "output_type": "stream",
     "text": [
      "127.0.0.1 - - [16/Apr/2023 05:37:58] \"GET /recommend/10003 HTTP/1.0\" 200 -\n"
     ]
    },
    {
     "name": "stdout",
     "output_type": "stream",
     "text": [
      "[(25, 1), (26, 1), (27, 1), (29, 1), (30, 1)]\n",
      "<class 'list'>\n",
      "<class 'pandas.core.series.Series'>\n",
      "29    3.016628\n",
      "30    3.016628\n",
      "27    2.335762\n",
      "26    0.735953\n",
      "25    0.119363\n",
      "31   -0.175765\n",
      "28   -0.674039\n",
      "dtype: float64\n",
      "<class 'pandas.core.frame.DataFrame'>\n",
      "              Val\n",
      "NotesID          \n",
      "29       3.016628\n",
      "30       3.016628\n",
      "27       2.335762\n",
      "26       0.735953\n",
      "25       0.119363\n",
      "31      -0.175765\n",
      "28      -0.674039\n",
      "{25, 26, 27, 29, 30}\n",
      "              Val\n",
      "NotesID          \n",
      "31      -0.175765\n",
      "28      -0.674039\n"
     ]
    },
    {
     "name": "stderr",
     "output_type": "stream",
     "text": [
      "127.0.0.1 - - [16/Apr/2023 05:38:11] \"GET /recommend/10003 HTTP/1.0\" 200 -\n"
     ]
    },
    {
     "name": "stdout",
     "output_type": "stream",
     "text": [
      "[(25, 1), (26, 1), (27, 1), (29, 1), (30, 1)]\n",
      "<class 'list'>\n",
      "<class 'pandas.core.series.Series'>\n",
      "29    3.016628\n",
      "30    3.016628\n",
      "27    2.335762\n",
      "26    0.735953\n",
      "25    0.119363\n",
      "31   -0.175765\n",
      "28   -0.674039\n",
      "dtype: float64\n",
      "<class 'pandas.core.frame.DataFrame'>\n",
      "              Val\n",
      "NotesID          \n",
      "29       3.016628\n",
      "30       3.016628\n",
      "27       2.335762\n",
      "26       0.735953\n",
      "25       0.119363\n",
      "31      -0.175765\n",
      "28      -0.674039\n",
      "{25, 26, 27, 29, 30}\n",
      "              Val\n",
      "NotesID          \n",
      "31      -0.175765\n",
      "28      -0.674039\n"
     ]
    }
   ],
   "source": [
    "from flask import Flask, jsonify\n",
    "\n",
    "app = Flask(__name__)\n",
    "\n",
    "\n",
    "@app.route('/recommend/<int:student_id>', methods=['GET'])\n",
    "def recommend(student_id):\n",
    "    # req_data = request.get_json()\n",
    "    # student_id = req_data['student_id']\n",
    "\n",
    "    connection = pymysql.connect(\n",
    "        host='localhost',\n",
    "        user='root',\n",
    "        password='',\n",
    "        db='tutorcatdb'\n",
    "    )\n",
    "\n",
    "    query = \"SELECT NotesID,Rating FROM notes_rating WHERE StudentID={} ORDER BY Rating;\".format(student_id)\n",
    "\n",
    "    student_rating_df = pd.read_sql(query, connection)\n",
    "\n",
    "    # Close the database connection\n",
    "    connection.close()\n",
    "\n",
    "    notes_id_list = [(row['NotesID'], 5 - row['Rating']) for _, row in student_rating_df.iterrows()]\n",
    "    print(notes_id_list)\n",
    "    print(type(notes_id_list))\n",
    "\n",
    "    piv_Series_null = pd.DataFrame()\n",
    "\n",
    "    for notesID,rating in notes_lover:\n",
    "        piv_Series_null = piv_dataFrame.append(get_similarity_notes(notesID, rating), ignore_index=True)\n",
    "\n",
    "    piv_Series_null.head()\n",
    "\n",
    "    piv_Series_null= piv_Series_null.sum().sort_values(ascending = False)\n",
    "    print(type(piv_Series_null))\n",
    "    print(piv_Series_null)\n",
    "    piv_dataFrame_null = piv_Series_null.to_frame(name='Val').rename_axis('NotesID')\n",
    "\n",
    "    print(type(piv_dataFrame_null))\n",
    "    print(piv_dataFrame_null)\n",
    "\n",
    "    onlyIDlist = set([x[0] for x in notes_id_list])\n",
    "    print(onlyIDlist)\n",
    "\n",
    "\n",
    "    piv_dataFrame_null = piv_dataFrame_null[~piv_dataFrame_null.index.isin(onlyIDlist)]\n",
    "\n",
    "    print(piv_dataFrame_null)\n",
    "\n",
    "    notes_ids_list = piv_dataFrame_null.index.tolist()\n",
    "    json_str = jsonify(notes_ids_list)\n",
    "    # recommendations = ['Product 1', 'Product 2', 'Product 3']\n",
    "    # return {'recommendations': recommendations}\n",
    "\n",
    "    return json_str\n",
    "\n",
    "if __name__ == '__main__':\n",
    "    app.run()"
   ],
   "metadata": {
    "collapsed": false,
    "pycharm": {
     "is_executing": true
    }
   }
  },
  {
   "cell_type": "markdown",
   "source": [],
   "metadata": {
    "collapsed": false
   }
  },
  {
   "cell_type": "markdown",
   "source": [],
   "metadata": {
    "collapsed": false
   }
  }
 ],
 "metadata": {
  "kernelspec": {
   "display_name": "Python 3",
   "language": "python",
   "name": "python3"
  },
  "language_info": {
   "codemirror_mode": {
    "name": "ipython",
    "version": 2
   },
   "file_extension": ".py",
   "mimetype": "text/x-python",
   "name": "python",
   "nbconvert_exporter": "python",
   "pygments_lexer": "ipython2",
   "version": "2.7.6"
  }
 },
 "nbformat": 4,
 "nbformat_minor": 0
}
