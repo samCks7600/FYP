{
 "cells": [
  {
   "cell_type": "code",
   "execution_count": 1,
   "metadata": {
    "collapsed": true
   },
   "outputs": [],
   "source": [
    "from flask import Flask, request\n",
    "from flask_restful import Resource, Api\n",
    "import pymysql\n",
    "import pandas as pd"
   ]
  },
  {
   "cell_type": "code",
   "execution_count": 2,
   "outputs": [
    {
     "name": "stdout",
     "output_type": "stream",
     "text": [
      "   NotesID  NotesID2  Val\n",
      "0       25        25  1.0\n",
      "1       26        25 -0.5\n",
      "2       27        25  0.5\n",
      "3       28        25 -0.5\n",
      "4       29        25  1.0\n"
     ]
    }
   ],
   "source": [
    "connection = pymysql.connect(\n",
    "    host='localhost',\n",
    "    user='root',\n",
    "    password='',\n",
    "    db='tutorcatdb'\n",
    ")\n",
    "\n",
    "# Define the SQL query to retrieve data from a table\n",
    "query = 'SELECT * FROM ai_table;'\n",
    "\n",
    "# Use pandas to load the query results into a DataFrame\n",
    "ai_df = pd.read_sql(query, connection)\n",
    "\n",
    "connection.close()\n",
    "\n",
    "# Print the DataFrame\n",
    "print(ai_df.head())"
   ],
   "metadata": {
    "collapsed": false
   }
  },
  {
   "cell_type": "code",
   "execution_count": 3,
   "outputs": [
    {
     "data": {
      "text/plain": "NotesID2        25        26            27            28        29  \\\nNotesID                                                              \n25        1.000000 -0.500000  5.000000e-01 -5.000000e-01  1.000000   \n26       -0.500000  1.000000  5.000000e-01 -5.000000e-01 -0.500000   \n27        0.500000  0.500000  1.000000e+00 -1.000000e+00  0.500000   \n28       -0.500000 -0.500000 -1.000000e+00  1.000000e+00 -0.500000   \n29        1.000000 -0.500000  5.000000e-01 -5.000000e-01  1.000000   \n30       -0.500000 -0.500000 -1.000000e+00  1.000000e+00 -0.500000   \n31        0.981981 -0.654654  3.273270e-01 -3.273270e-01  0.981981   \n32        0.866025 -0.866025  8.255430e-18  2.426230e-17  0.866025   \n33        0.500000 -1.000000 -5.000000e-01  5.000000e-01  0.500000   \n34       -1.000000  0.500000 -5.000000e-01  5.000000e-01 -1.000000   \n\nNotesID2            30        31            32        33        34  \nNotesID                                                             \n25       -5.000000e-01  0.981981  8.660250e-01  0.500000 -1.000000  \n26       -5.000000e-01 -0.654654 -8.660250e-01 -1.000000  0.500000  \n27       -1.000000e+00  0.327327  8.255430e-18 -0.500000 -0.500000  \n28        1.000000e+00 -0.327327  2.426230e-17  0.500000  0.500000  \n29       -5.000000e-01  0.981981  8.660250e-01  0.500000 -1.000000  \n30        1.000000e+00 -0.327327 -1.520800e-18  0.500000  0.500000  \n31       -3.273270e-01  1.000000  9.449110e-01  0.654654 -0.981981  \n32       -1.520800e-18  0.944911  1.000000e+00  0.866025 -0.866025  \n33        5.000000e-01  0.654654  8.660250e-01  1.000000 -0.500000  \n34        5.000000e-01 -0.981981 -8.660250e-01 -0.500000  1.000000  ",
      "text/html": "<div>\n<style scoped>\n    .dataframe tbody tr th:only-of-type {\n        vertical-align: middle;\n    }\n\n    .dataframe tbody tr th {\n        vertical-align: top;\n    }\n\n    .dataframe thead th {\n        text-align: right;\n    }\n</style>\n<table border=\"1\" class=\"dataframe\">\n  <thead>\n    <tr style=\"text-align: right;\">\n      <th>NotesID2</th>\n      <th>25</th>\n      <th>26</th>\n      <th>27</th>\n      <th>28</th>\n      <th>29</th>\n      <th>30</th>\n      <th>31</th>\n      <th>32</th>\n      <th>33</th>\n      <th>34</th>\n    </tr>\n    <tr>\n      <th>NotesID</th>\n      <th></th>\n      <th></th>\n      <th></th>\n      <th></th>\n      <th></th>\n      <th></th>\n      <th></th>\n      <th></th>\n      <th></th>\n      <th></th>\n    </tr>\n  </thead>\n  <tbody>\n    <tr>\n      <th>25</th>\n      <td>1.000000</td>\n      <td>-0.500000</td>\n      <td>5.000000e-01</td>\n      <td>-5.000000e-01</td>\n      <td>1.000000</td>\n      <td>-5.000000e-01</td>\n      <td>0.981981</td>\n      <td>8.660250e-01</td>\n      <td>0.500000</td>\n      <td>-1.000000</td>\n    </tr>\n    <tr>\n      <th>26</th>\n      <td>-0.500000</td>\n      <td>1.000000</td>\n      <td>5.000000e-01</td>\n      <td>-5.000000e-01</td>\n      <td>-0.500000</td>\n      <td>-5.000000e-01</td>\n      <td>-0.654654</td>\n      <td>-8.660250e-01</td>\n      <td>-1.000000</td>\n      <td>0.500000</td>\n    </tr>\n    <tr>\n      <th>27</th>\n      <td>0.500000</td>\n      <td>0.500000</td>\n      <td>1.000000e+00</td>\n      <td>-1.000000e+00</td>\n      <td>0.500000</td>\n      <td>-1.000000e+00</td>\n      <td>0.327327</td>\n      <td>8.255430e-18</td>\n      <td>-0.500000</td>\n      <td>-0.500000</td>\n    </tr>\n    <tr>\n      <th>28</th>\n      <td>-0.500000</td>\n      <td>-0.500000</td>\n      <td>-1.000000e+00</td>\n      <td>1.000000e+00</td>\n      <td>-0.500000</td>\n      <td>1.000000e+00</td>\n      <td>-0.327327</td>\n      <td>2.426230e-17</td>\n      <td>0.500000</td>\n      <td>0.500000</td>\n    </tr>\n    <tr>\n      <th>29</th>\n      <td>1.000000</td>\n      <td>-0.500000</td>\n      <td>5.000000e-01</td>\n      <td>-5.000000e-01</td>\n      <td>1.000000</td>\n      <td>-5.000000e-01</td>\n      <td>0.981981</td>\n      <td>8.660250e-01</td>\n      <td>0.500000</td>\n      <td>-1.000000</td>\n    </tr>\n    <tr>\n      <th>30</th>\n      <td>-0.500000</td>\n      <td>-0.500000</td>\n      <td>-1.000000e+00</td>\n      <td>1.000000e+00</td>\n      <td>-0.500000</td>\n      <td>1.000000e+00</td>\n      <td>-0.327327</td>\n      <td>-1.520800e-18</td>\n      <td>0.500000</td>\n      <td>0.500000</td>\n    </tr>\n    <tr>\n      <th>31</th>\n      <td>0.981981</td>\n      <td>-0.654654</td>\n      <td>3.273270e-01</td>\n      <td>-3.273270e-01</td>\n      <td>0.981981</td>\n      <td>-3.273270e-01</td>\n      <td>1.000000</td>\n      <td>9.449110e-01</td>\n      <td>0.654654</td>\n      <td>-0.981981</td>\n    </tr>\n    <tr>\n      <th>32</th>\n      <td>0.866025</td>\n      <td>-0.866025</td>\n      <td>8.255430e-18</td>\n      <td>2.426230e-17</td>\n      <td>0.866025</td>\n      <td>-1.520800e-18</td>\n      <td>0.944911</td>\n      <td>1.000000e+00</td>\n      <td>0.866025</td>\n      <td>-0.866025</td>\n    </tr>\n    <tr>\n      <th>33</th>\n      <td>0.500000</td>\n      <td>-1.000000</td>\n      <td>-5.000000e-01</td>\n      <td>5.000000e-01</td>\n      <td>0.500000</td>\n      <td>5.000000e-01</td>\n      <td>0.654654</td>\n      <td>8.660250e-01</td>\n      <td>1.000000</td>\n      <td>-0.500000</td>\n    </tr>\n    <tr>\n      <th>34</th>\n      <td>-1.000000</td>\n      <td>0.500000</td>\n      <td>-5.000000e-01</td>\n      <td>5.000000e-01</td>\n      <td>-1.000000</td>\n      <td>5.000000e-01</td>\n      <td>-0.981981</td>\n      <td>-8.660250e-01</td>\n      <td>-0.500000</td>\n      <td>1.000000</td>\n    </tr>\n  </tbody>\n</table>\n</div>"
     },
     "execution_count": 3,
     "metadata": {},
     "output_type": "execute_result"
    }
   ],
   "source": [
    "piv_dataFrame = ai_df.pivot_table(index='NotesID', columns='NotesID2', values=\"Val\").fillna(0)\n",
    "\n",
    "piv_dataFrame"
   ],
   "metadata": {
    "collapsed": false
   }
  },
  {
   "cell_type": "code",
   "execution_count": 4,
   "outputs": [
    {
     "name": "stdout",
     "output_type": "stream",
     "text": [
      "NotesID\n",
      "25    5.000000\n",
      "29    5.000000\n",
      "31    4.909905\n",
      "32    4.330125\n",
      "27    2.500000\n",
      "33    2.500000\n",
      "26   -2.500000\n",
      "28   -2.500000\n",
      "30   -2.500000\n",
      "34   -5.000000\n",
      "Name: 25, dtype: float64\n"
     ]
    }
   ],
   "source": [
    "def get_similarity_notes(notesID, user_rating):\n",
    "    similarity_mark = piv_dataFrame[notesID] * user_rating\n",
    "    similarity_mark = similarity_mark.sort_values(ascending=False)\n",
    "\n",
    "    return similarity_mark\n",
    "\n",
    "print(get_similarity_notes(25, 5))"
   ],
   "metadata": {
    "collapsed": false
   }
  },
  {
   "cell_type": "code",
   "execution_count": 5,
   "outputs": [],
   "source": [
    "notes_lover = [(25, 1), (26, 1), (27, 1)]\n",
    "\n",
    "# piv_dataFrame_null = pd.DataFrame()\n",
    "#\n",
    "# for notesID,rating in notes_lover:\n",
    "#     piv_dataFrame_null = piv_dataFrame.append(get_similarity_notes(notesID,rating),ignore_index=True)\n",
    "#\n",
    "# piv_dataFrame_null.head()\n",
    "#\n",
    "# piv_dataFrame_null.sum().sort_values(ascending = False)"
   ],
   "metadata": {
    "collapsed": false
   }
  },
  {
   "cell_type": "code",
   "execution_count": null,
   "outputs": [
    {
     "name": "stdout",
     "output_type": "stream",
     "text": [
      " * Serving Flask app '__main__'\n",
      " * Debug mode: off\n"
     ]
    },
    {
     "name": "stderr",
     "output_type": "stream",
     "text": [
      "WARNING: This is a development server. Do not use it in a production deployment. Use a production WSGI server instead.\n",
      " * Running on http://127.0.0.1:5000\n",
      "Press CTRL+C to quit\n",
      "127.0.0.1 - - [22/Apr/2023 22:19:16] \"GET /recommend/10003 HTTP/1.0\" 200 -\n"
     ]
    },
    {
     "name": "stdout",
     "output_type": "stream",
     "text": [
      "[(28, 3), (26, 2), (30, 2), (32, 2), (25, 1), (27, 1), (31, 1), (29, 0)]\n",
      "<class 'list'>\n",
      "<class 'pandas.core.series.Series'>\n",
      "31    2.926892\n",
      "25    2.848006\n",
      "29    2.848006\n",
      "32    2.810936\n",
      "33    2.020679\n",
      "27    0.827327\n",
      "28   -0.827327\n",
      "30   -0.827327\n",
      "26   -2.020679\n",
      "34   -2.848006\n",
      "dtype: float64\n",
      "<class 'pandas.core.frame.DataFrame'>\n",
      "              Val\n",
      "NotesID          \n",
      "31       2.926892\n",
      "25       2.848006\n",
      "29       2.848006\n",
      "32       2.810936\n",
      "33       2.020679\n",
      "27       0.827327\n",
      "28      -0.827327\n",
      "30      -0.827327\n",
      "26      -2.020679\n",
      "34      -2.848006\n",
      "{32, 25, 26, 27, 28, 29, 30, 31}\n",
      "              Val\n",
      "NotesID          \n",
      "33       2.020679\n",
      "34      -2.848006\n"
     ]
    },
    {
     "name": "stderr",
     "output_type": "stream",
     "text": [
      "127.0.0.1 - - [22/Apr/2023 22:19:26] \"GET /recommend/10003 HTTP/1.0\" 200 -\n"
     ]
    },
    {
     "name": "stdout",
     "output_type": "stream",
     "text": [
      "[(28, 3), (26, 2), (30, 2), (32, 2), (25, 1), (27, 1), (31, 1), (29, 0)]\n",
      "<class 'list'>\n",
      "<class 'pandas.core.series.Series'>\n",
      "31    2.926892\n",
      "25    2.848006\n",
      "29    2.848006\n",
      "32    2.810936\n",
      "33    2.020679\n",
      "27    0.827327\n",
      "28   -0.827327\n",
      "30   -0.827327\n",
      "26   -2.020679\n",
      "34   -2.848006\n",
      "dtype: float64\n",
      "<class 'pandas.core.frame.DataFrame'>\n",
      "              Val\n",
      "NotesID          \n",
      "31       2.926892\n",
      "25       2.848006\n",
      "29       2.848006\n",
      "32       2.810936\n",
      "33       2.020679\n",
      "27       0.827327\n",
      "28      -0.827327\n",
      "30      -0.827327\n",
      "26      -2.020679\n",
      "34      -2.848006\n",
      "{32, 25, 26, 27, 28, 29, 30, 31}\n",
      "              Val\n",
      "NotesID          \n",
      "33       2.020679\n",
      "34      -2.848006\n"
     ]
    },
    {
     "name": "stderr",
     "output_type": "stream",
     "text": [
      "127.0.0.1 - - [22/Apr/2023 22:33:30] \"GET /recommend/10003 HTTP/1.0\" 200 -\n"
     ]
    },
    {
     "name": "stdout",
     "output_type": "stream",
     "text": [
      "[(28, 3), (26, 2), (30, 2), (25, 1), (27, 1), (31, 1), (29, 0)]\n",
      "<class 'list'>\n",
      "<class 'pandas.core.series.Series'>\n",
      "31    2.926892\n",
      "25    2.848006\n",
      "29    2.848006\n",
      "32    2.810936\n",
      "33    2.020679\n",
      "27    0.827327\n",
      "28   -0.827327\n",
      "30   -0.827327\n",
      "26   -2.020679\n",
      "34   -2.848006\n",
      "dtype: float64\n",
      "<class 'pandas.core.frame.DataFrame'>\n",
      "              Val\n",
      "NotesID          \n",
      "31       2.926892\n",
      "25       2.848006\n",
      "29       2.848006\n",
      "32       2.810936\n",
      "33       2.020679\n",
      "27       0.827327\n",
      "28      -0.827327\n",
      "30      -0.827327\n",
      "26      -2.020679\n",
      "34      -2.848006\n",
      "{25, 26, 27, 28, 29, 30, 31}\n",
      "              Val\n",
      "NotesID          \n",
      "32       2.810936\n",
      "33       2.020679\n",
      "34      -2.848006\n"
     ]
    },
    {
     "name": "stderr",
     "output_type": "stream",
     "text": [
      "127.0.0.1 - - [22/Apr/2023 22:33:51] \"GET /recommend/10003 HTTP/1.0\" 200 -\n"
     ]
    },
    {
     "name": "stdout",
     "output_type": "stream",
     "text": [
      "[(28, 3), (26, 2), (30, 2), (25, 1), (27, 1), (31, 1), (32, 1), (29, 0)]\n",
      "<class 'list'>\n",
      "<class 'pandas.core.series.Series'>\n",
      "31    2.926892\n",
      "25    2.848006\n",
      "29    2.848006\n",
      "32    2.810936\n",
      "33    2.020679\n",
      "27    0.827327\n",
      "28   -0.827327\n",
      "30   -0.827327\n",
      "26   -2.020679\n",
      "34   -2.848006\n",
      "dtype: float64\n",
      "<class 'pandas.core.frame.DataFrame'>\n",
      "              Val\n",
      "NotesID          \n",
      "31       2.926892\n",
      "25       2.848006\n",
      "29       2.848006\n",
      "32       2.810936\n",
      "33       2.020679\n",
      "27       0.827327\n",
      "28      -0.827327\n",
      "30      -0.827327\n",
      "26      -2.020679\n",
      "34      -2.848006\n",
      "{32, 25, 26, 27, 28, 29, 30, 31}\n",
      "              Val\n",
      "NotesID          \n",
      "33       2.020679\n",
      "34      -2.848006\n"
     ]
    }
   ],
   "source": [
    "from flask import Flask, jsonify\n",
    "\n",
    "app = Flask(__name__)\n",
    "\n",
    "\n",
    "@app.route('/recommend/<int:student_id>', methods=['GET'])\n",
    "def recommend(student_id):\n",
    "    # req_data = request.get_json()\n",
    "    # student_id = req_data['student_id']\n",
    "\n",
    "    connection = pymysql.connect(\n",
    "        host='localhost',\n",
    "        user='root',\n",
    "        password='',\n",
    "        db='tutorcatdb'\n",
    "    )\n",
    "\n",
    "    query = \"SELECT NotesID,Rating FROM notes_rating WHERE StudentID={} ORDER BY Rating;\".format(student_id)\n",
    "\n",
    "    student_rating_df = pd.read_sql(query, connection)\n",
    "\n",
    "    # Close the database connection\n",
    "    connection.close()\n",
    "\n",
    "    notes_id_list = [(row['NotesID'], 5 - row['Rating']) for _, row in student_rating_df.iterrows()]\n",
    "    print(notes_id_list)\n",
    "    print(type(notes_id_list))\n",
    "\n",
    "    piv_Series_null = pd.DataFrame()\n",
    "\n",
    "    for notesID,rating in notes_lover:\n",
    "        piv_Series_null = piv_dataFrame.append(get_similarity_notes(notesID, rating), ignore_index=True)\n",
    "\n",
    "    piv_Series_null.head()\n",
    "\n",
    "    piv_Series_null= piv_Series_null.sum().sort_values(ascending = False)\n",
    "    print(type(piv_Series_null))\n",
    "    print(piv_Series_null)\n",
    "    piv_dataFrame_null = piv_Series_null.to_frame(name='Val').rename_axis('NotesID')\n",
    "\n",
    "    print(type(piv_dataFrame_null))\n",
    "    print(piv_dataFrame_null)\n",
    "\n",
    "    onlyIDlist = set([x[0] for x in notes_id_list])\n",
    "    print(onlyIDlist)\n",
    "\n",
    "\n",
    "    piv_dataFrame_null = piv_dataFrame_null[~piv_dataFrame_null.index.isin(onlyIDlist)]\n",
    "\n",
    "    print(piv_dataFrame_null)\n",
    "\n",
    "    notes_ids_list = piv_dataFrame_null.index.tolist()\n",
    "    json_str = jsonify(notes_ids_list)\n",
    "    # recommendations = ['Product 1', 'Product 2', 'Product 3']\n",
    "    # return {'recommendations': recommendations}\n",
    "\n",
    "    return json_str\n",
    "\n",
    "if __name__ == '__main__':\n",
    "    app.run()"
   ],
   "metadata": {
    "collapsed": false,
    "pycharm": {
     "is_executing": true
    }
   }
  },
  {
   "cell_type": "markdown",
   "source": [],
   "metadata": {
    "collapsed": false
   }
  },
  {
   "cell_type": "markdown",
   "source": [],
   "metadata": {
    "collapsed": false
   }
  }
 ],
 "metadata": {
  "kernelspec": {
   "display_name": "Python 3",
   "language": "python",
   "name": "python3"
  },
  "language_info": {
   "codemirror_mode": {
    "name": "ipython",
    "version": 2
   },
   "file_extension": ".py",
   "mimetype": "text/x-python",
   "name": "python",
   "nbconvert_exporter": "python",
   "pygments_lexer": "ipython2",
   "version": "2.7.6"
  }
 },
 "nbformat": 4,
 "nbformat_minor": 0
}
